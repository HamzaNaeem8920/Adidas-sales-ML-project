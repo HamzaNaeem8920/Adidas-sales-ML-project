{
  "cells": [
    {
      "cell_type": "markdown",
      "source": [
        "# Adidas Sales Data \n",
        "![Logo_Adidas.png](data:image/png;base64,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)"
      ],
      "metadata": {
        "id": "rtykzloDx724"
      }
    },
    {
      "cell_type": "markdown",
      "metadata": {
        "id": "xrzCp0_KUx8H"
      },
      "source": [
        "## Upload file from Local Drive"
      ]
    },
    {
      "cell_type": "code",
      "execution_count": null,
      "metadata": {
        "colab": {
          "base_uri": "https://localhost:8080/",
          "height": 74
        },
        "id": "PLU11Bj6PptY",
        "outputId": "c9c51e16-a9d8-45b3-c41a-d42a87d795d3"
      },
      "outputs": [
        {
          "output_type": "display_data",
          "data": {
            "text/plain": [
              "<IPython.core.display.HTML object>"
            ],
            "text/html": [
              "\n",
              "     <input type=\"file\" id=\"files-408ef107-14d1-4901-8a14-e1a3d819c693\" name=\"files[]\" multiple disabled\n",
              "        style=\"border:none\" />\n",
              "     <output id=\"result-408ef107-14d1-4901-8a14-e1a3d819c693\">\n",
              "      Upload widget is only available when the cell has been executed in the\n",
              "      current browser session. Please rerun this cell to enable.\n",
              "      </output>\n",
              "      <script>// Copyright 2017 Google LLC\n",
              "//\n",
              "// Licensed under the Apache License, Version 2.0 (the \"License\");\n",
              "// you may not use this file except in compliance with the License.\n",
              "// You may obtain a copy of the License at\n",
              "//\n",
              "//      http://www.apache.org/licenses/LICENSE-2.0\n",
              "//\n",
              "// Unless required by applicable law or agreed to in writing, software\n",
              "// distributed under the License is distributed on an \"AS IS\" BASIS,\n",
              "// WITHOUT WARRANTIES OR CONDITIONS OF ANY KIND, either express or implied.\n",
              "// See the License for the specific language governing permissions and\n",
              "// limitations under the License.\n",
              "\n",
              "/**\n",
              " * @fileoverview Helpers for google.colab Python module.\n",
              " */\n",
              "(function(scope) {\n",
              "function span(text, styleAttributes = {}) {\n",
              "  const element = document.createElement('span');\n",
              "  element.textContent = text;\n",
              "  for (const key of Object.keys(styleAttributes)) {\n",
              "    element.style[key] = styleAttributes[key];\n",
              "  }\n",
              "  return element;\n",
              "}\n",
              "\n",
              "// Max number of bytes which will be uploaded at a time.\n",
              "const MAX_PAYLOAD_SIZE = 100 * 1024;\n",
              "\n",
              "function _uploadFiles(inputId, outputId) {\n",
              "  const steps = uploadFilesStep(inputId, outputId);\n",
              "  const outputElement = document.getElementById(outputId);\n",
              "  // Cache steps on the outputElement to make it available for the next call\n",
              "  // to uploadFilesContinue from Python.\n",
              "  outputElement.steps = steps;\n",
              "\n",
              "  return _uploadFilesContinue(outputId);\n",
              "}\n",
              "\n",
              "// This is roughly an async generator (not supported in the browser yet),\n",
              "// where there are multiple asynchronous steps and the Python side is going\n",
              "// to poll for completion of each step.\n",
              "// This uses a Promise to block the python side on completion of each step,\n",
              "// then passes the result of the previous step as the input to the next step.\n",
              "function _uploadFilesContinue(outputId) {\n",
              "  const outputElement = document.getElementById(outputId);\n",
              "  const steps = outputElement.steps;\n",
              "\n",
              "  const next = steps.next(outputElement.lastPromiseValue);\n",
              "  return Promise.resolve(next.value.promise).then((value) => {\n",
              "    // Cache the last promise value to make it available to the next\n",
              "    // step of the generator.\n",
              "    outputElement.lastPromiseValue = value;\n",
              "    return next.value.response;\n",
              "  });\n",
              "}\n",
              "\n",
              "/**\n",
              " * Generator function which is called between each async step of the upload\n",
              " * process.\n",
              " * @param {string} inputId Element ID of the input file picker element.\n",
              " * @param {string} outputId Element ID of the output display.\n",
              " * @return {!Iterable<!Object>} Iterable of next steps.\n",
              " */\n",
              "function* uploadFilesStep(inputId, outputId) {\n",
              "  const inputElement = document.getElementById(inputId);\n",
              "  inputElement.disabled = false;\n",
              "\n",
              "  const outputElement = document.getElementById(outputId);\n",
              "  outputElement.innerHTML = '';\n",
              "\n",
              "  const pickedPromise = new Promise((resolve) => {\n",
              "    inputElement.addEventListener('change', (e) => {\n",
              "      resolve(e.target.files);\n",
              "    });\n",
              "  });\n",
              "\n",
              "  const cancel = document.createElement('button');\n",
              "  inputElement.parentElement.appendChild(cancel);\n",
              "  cancel.textContent = 'Cancel upload';\n",
              "  const cancelPromise = new Promise((resolve) => {\n",
              "    cancel.onclick = () => {\n",
              "      resolve(null);\n",
              "    };\n",
              "  });\n",
              "\n",
              "  // Wait for the user to pick the files.\n",
              "  const files = yield {\n",
              "    promise: Promise.race([pickedPromise, cancelPromise]),\n",
              "    response: {\n",
              "      action: 'starting',\n",
              "    }\n",
              "  };\n",
              "\n",
              "  cancel.remove();\n",
              "\n",
              "  // Disable the input element since further picks are not allowed.\n",
              "  inputElement.disabled = true;\n",
              "\n",
              "  if (!files) {\n",
              "    return {\n",
              "      response: {\n",
              "        action: 'complete',\n",
              "      }\n",
              "    };\n",
              "  }\n",
              "\n",
              "  for (const file of files) {\n",
              "    const li = document.createElement('li');\n",
              "    li.append(span(file.name, {fontWeight: 'bold'}));\n",
              "    li.append(span(\n",
              "        `(${file.type || 'n/a'}) - ${file.size} bytes, ` +\n",
              "        `last modified: ${\n",
              "            file.lastModifiedDate ? file.lastModifiedDate.toLocaleDateString() :\n",
              "                                    'n/a'} - `));\n",
              "    const percent = span('0% done');\n",
              "    li.appendChild(percent);\n",
              "\n",
              "    outputElement.appendChild(li);\n",
              "\n",
              "    const fileDataPromise = new Promise((resolve) => {\n",
              "      const reader = new FileReader();\n",
              "      reader.onload = (e) => {\n",
              "        resolve(e.target.result);\n",
              "      };\n",
              "      reader.readAsArrayBuffer(file);\n",
              "    });\n",
              "    // Wait for the data to be ready.\n",
              "    let fileData = yield {\n",
              "      promise: fileDataPromise,\n",
              "      response: {\n",
              "        action: 'continue',\n",
              "      }\n",
              "    };\n",
              "\n",
              "    // Use a chunked sending to avoid message size limits. See b/62115660.\n",
              "    let position = 0;\n",
              "    do {\n",
              "      const length = Math.min(fileData.byteLength - position, MAX_PAYLOAD_SIZE);\n",
              "      const chunk = new Uint8Array(fileData, position, length);\n",
              "      position += length;\n",
              "\n",
              "      const base64 = btoa(String.fromCharCode.apply(null, chunk));\n",
              "      yield {\n",
              "        response: {\n",
              "          action: 'append',\n",
              "          file: file.name,\n",
              "          data: base64,\n",
              "        },\n",
              "      };\n",
              "\n",
              "      let percentDone = fileData.byteLength === 0 ?\n",
              "          100 :\n",
              "          Math.round((position / fileData.byteLength) * 100);\n",
              "      percent.textContent = `${percentDone}% done`;\n",
              "\n",
              "    } while (position < fileData.byteLength);\n",
              "  }\n",
              "\n",
              "  // All done.\n",
              "  yield {\n",
              "    response: {\n",
              "      action: 'complete',\n",
              "    }\n",
              "  };\n",
              "}\n",
              "\n",
              "scope.google = scope.google || {};\n",
              "scope.google.colab = scope.google.colab || {};\n",
              "scope.google.colab._files = {\n",
              "  _uploadFiles,\n",
              "  _uploadFilesContinue,\n",
              "};\n",
              "})(self);\n",
              "</script> "
            ]
          },
          "metadata": {}
        },
        {
          "output_type": "stream",
          "name": "stdout",
          "text": [
            "Saving adidas.csv to adidas.csv\n"
          ]
        }
      ],
      "source": [
        "from google.colab import files\n",
        " \n",
        " \n",
        "uploaded = files.upload()"
      ]
    },
    {
      "cell_type": "code",
      "source": [
        "import numpy as np\n",
        "import matplotlib.pyplot as plt\n",
        "import seaborn as sns\n",
        "from sklearn.linear_model import LinearRegression\n",
        "from sklearn.model_selection import train_test_split\n",
        "from sklearn.ensemble import RandomForestRegressor \n",
        "from sklearn.preprocessing import StandardScaler\n",
        "from sklearn.neighbors import KNeighborsRegressor\n",
        "\n",
        "from sklearn import tree\n"
      ],
      "metadata": {
        "id": "lmwhFJvqssaf"
      },
      "execution_count": null,
      "outputs": []
    },
    {
      "cell_type": "markdown",
      "metadata": {
        "id": "j0_t5XC4UiVw"
      },
      "source": [
        "# Importing Data"
      ]
    },
    {
      "cell_type": "code",
      "execution_count": null,
      "metadata": {
        "colab": {
          "base_uri": "https://localhost:8080/",
          "height": 354
        },
        "id": "b02sgh0NPrAH",
        "outputId": "c184a10d-f5eb-4659-cbf1-b1340eeca373"
      },
      "outputs": [
        {
          "output_type": "execute_result",
          "data": {
            "text/plain": [
              "   Unnamed: 0     Retailer  Retailer ID         Invoice Date     Region  \\\n",
              "0           0  Foot Locker      1185732  2020-01-01 00:00:00  Northeast   \n",
              "1           1  Foot Locker      1185732  2020-01-02 00:00:00  Northeast   \n",
              "2           2  Foot Locker      1185732  2020-01-03 00:00:00  Northeast   \n",
              "3           3  Foot Locker      1185732  2020-01-04 00:00:00  Northeast   \n",
              "4           4  Foot Locker      1185732  2020-01-05 00:00:00  Northeast   \n",
              "\n",
              "      State      City                    Product  Price per Unit  Units Sold  \\\n",
              "0  New York  New York      Men's Street Footwear            50.0        1200   \n",
              "1  New York  New York    Men's Athletic Footwear            50.0        1000   \n",
              "2  New York  New York    Women's Street Footwear            40.0        1000   \n",
              "3  New York  New York  Women's Athletic Footwear            45.0         850   \n",
              "4  New York  New York              Men's Apparel            60.0         900   \n",
              "\n",
              "   Total Sales  Operating Profit  Operating Margin Sales Method  \n",
              "0     600000.0          300000.0              0.50     In-store  \n",
              "1     500000.0          150000.0              0.30     In-store  \n",
              "2     400000.0          140000.0              0.35     In-store  \n",
              "3     382500.0          133875.0              0.35     In-store  \n",
              "4     540000.0          162000.0              0.30     In-store  "
            ],
            "text/html": [
              "\n",
              "  <div id=\"df-601b7a6b-9b8c-43f9-a16c-f093044cc1a2\">\n",
              "    <div class=\"colab-df-container\">\n",
              "      <div>\n",
              "<style scoped>\n",
              "    .dataframe tbody tr th:only-of-type {\n",
              "        vertical-align: middle;\n",
              "    }\n",
              "\n",
              "    .dataframe tbody tr th {\n",
              "        vertical-align: top;\n",
              "    }\n",
              "\n",
              "    .dataframe thead th {\n",
              "        text-align: right;\n",
              "    }\n",
              "</style>\n",
              "<table border=\"1\" class=\"dataframe\">\n",
              "  <thead>\n",
              "    <tr style=\"text-align: right;\">\n",
              "      <th></th>\n",
              "      <th>Unnamed: 0</th>\n",
              "      <th>Retailer</th>\n",
              "      <th>Retailer ID</th>\n",
              "      <th>Invoice Date</th>\n",
              "      <th>Region</th>\n",
              "      <th>State</th>\n",
              "      <th>City</th>\n",
              "      <th>Product</th>\n",
              "      <th>Price per Unit</th>\n",
              "      <th>Units Sold</th>\n",
              "      <th>Total Sales</th>\n",
              "      <th>Operating Profit</th>\n",
              "      <th>Operating Margin</th>\n",
              "      <th>Sales Method</th>\n",
              "    </tr>\n",
              "  </thead>\n",
              "  <tbody>\n",
              "    <tr>\n",
              "      <th>0</th>\n",
              "      <td>0</td>\n",
              "      <td>Foot Locker</td>\n",
              "      <td>1185732</td>\n",
              "      <td>2020-01-01 00:00:00</td>\n",
              "      <td>Northeast</td>\n",
              "      <td>New York</td>\n",
              "      <td>New York</td>\n",
              "      <td>Men's Street Footwear</td>\n",
              "      <td>50.0</td>\n",
              "      <td>1200</td>\n",
              "      <td>600000.0</td>\n",
              "      <td>300000.0</td>\n",
              "      <td>0.50</td>\n",
              "      <td>In-store</td>\n",
              "    </tr>\n",
              "    <tr>\n",
              "      <th>1</th>\n",
              "      <td>1</td>\n",
              "      <td>Foot Locker</td>\n",
              "      <td>1185732</td>\n",
              "      <td>2020-01-02 00:00:00</td>\n",
              "      <td>Northeast</td>\n",
              "      <td>New York</td>\n",
              "      <td>New York</td>\n",
              "      <td>Men's Athletic Footwear</td>\n",
              "      <td>50.0</td>\n",
              "      <td>1000</td>\n",
              "      <td>500000.0</td>\n",
              "      <td>150000.0</td>\n",
              "      <td>0.30</td>\n",
              "      <td>In-store</td>\n",
              "    </tr>\n",
              "    <tr>\n",
              "      <th>2</th>\n",
              "      <td>2</td>\n",
              "      <td>Foot Locker</td>\n",
              "      <td>1185732</td>\n",
              "      <td>2020-01-03 00:00:00</td>\n",
              "      <td>Northeast</td>\n",
              "      <td>New York</td>\n",
              "      <td>New York</td>\n",
              "      <td>Women's Street Footwear</td>\n",
              "      <td>40.0</td>\n",
              "      <td>1000</td>\n",
              "      <td>400000.0</td>\n",
              "      <td>140000.0</td>\n",
              "      <td>0.35</td>\n",
              "      <td>In-store</td>\n",
              "    </tr>\n",
              "    <tr>\n",
              "      <th>3</th>\n",
              "      <td>3</td>\n",
              "      <td>Foot Locker</td>\n",
              "      <td>1185732</td>\n",
              "      <td>2020-01-04 00:00:00</td>\n",
              "      <td>Northeast</td>\n",
              "      <td>New York</td>\n",
              "      <td>New York</td>\n",
              "      <td>Women's Athletic Footwear</td>\n",
              "      <td>45.0</td>\n",
              "      <td>850</td>\n",
              "      <td>382500.0</td>\n",
              "      <td>133875.0</td>\n",
              "      <td>0.35</td>\n",
              "      <td>In-store</td>\n",
              "    </tr>\n",
              "    <tr>\n",
              "      <th>4</th>\n",
              "      <td>4</td>\n",
              "      <td>Foot Locker</td>\n",
              "      <td>1185732</td>\n",
              "      <td>2020-01-05 00:00:00</td>\n",
              "      <td>Northeast</td>\n",
              "      <td>New York</td>\n",
              "      <td>New York</td>\n",
              "      <td>Men's Apparel</td>\n",
              "      <td>60.0</td>\n",
              "      <td>900</td>\n",
              "      <td>540000.0</td>\n",
              "      <td>162000.0</td>\n",
              "      <td>0.30</td>\n",
              "      <td>In-store</td>\n",
              "    </tr>\n",
              "  </tbody>\n",
              "</table>\n",
              "</div>\n",
              "      <button class=\"colab-df-convert\" onclick=\"convertToInteractive('df-601b7a6b-9b8c-43f9-a16c-f093044cc1a2')\"\n",
              "              title=\"Convert this dataframe to an interactive table.\"\n",
              "              style=\"display:none;\">\n",
              "        \n",
              "  <svg xmlns=\"http://www.w3.org/2000/svg\" height=\"24px\"viewBox=\"0 0 24 24\"\n",
              "       width=\"24px\">\n",
              "    <path d=\"M0 0h24v24H0V0z\" fill=\"none\"/>\n",
              "    <path d=\"M18.56 5.44l.94 2.06.94-2.06 2.06-.94-2.06-.94-.94-2.06-.94 2.06-2.06.94zm-11 1L8.5 8.5l.94-2.06 2.06-.94-2.06-.94L8.5 2.5l-.94 2.06-2.06.94zm10 10l.94 2.06.94-2.06 2.06-.94-2.06-.94-.94-2.06-.94 2.06-2.06.94z\"/><path d=\"M17.41 7.96l-1.37-1.37c-.4-.4-.92-.59-1.43-.59-.52 0-1.04.2-1.43.59L10.3 9.45l-7.72 7.72c-.78.78-.78 2.05 0 2.83L4 21.41c.39.39.9.59 1.41.59.51 0 1.02-.2 1.41-.59l7.78-7.78 2.81-2.81c.8-.78.8-2.07 0-2.86zM5.41 20L4 18.59l7.72-7.72 1.47 1.35L5.41 20z\"/>\n",
              "  </svg>\n",
              "      </button>\n",
              "      \n",
              "  <style>\n",
              "    .colab-df-container {\n",
              "      display:flex;\n",
              "      flex-wrap:wrap;\n",
              "      gap: 12px;\n",
              "    }\n",
              "\n",
              "    .colab-df-convert {\n",
              "      background-color: #E8F0FE;\n",
              "      border: none;\n",
              "      border-radius: 50%;\n",
              "      cursor: pointer;\n",
              "      display: none;\n",
              "      fill: #1967D2;\n",
              "      height: 32px;\n",
              "      padding: 0 0 0 0;\n",
              "      width: 32px;\n",
              "    }\n",
              "\n",
              "    .colab-df-convert:hover {\n",
              "      background-color: #E2EBFA;\n",
              "      box-shadow: 0px 1px 2px rgba(60, 64, 67, 0.3), 0px 1px 3px 1px rgba(60, 64, 67, 0.15);\n",
              "      fill: #174EA6;\n",
              "    }\n",
              "\n",
              "    [theme=dark] .colab-df-convert {\n",
              "      background-color: #3B4455;\n",
              "      fill: #D2E3FC;\n",
              "    }\n",
              "\n",
              "    [theme=dark] .colab-df-convert:hover {\n",
              "      background-color: #434B5C;\n",
              "      box-shadow: 0px 1px 3px 1px rgba(0, 0, 0, 0.15);\n",
              "      filter: drop-shadow(0px 1px 2px rgba(0, 0, 0, 0.3));\n",
              "      fill: #FFFFFF;\n",
              "    }\n",
              "  </style>\n",
              "\n",
              "      <script>\n",
              "        const buttonEl =\n",
              "          document.querySelector('#df-601b7a6b-9b8c-43f9-a16c-f093044cc1a2 button.colab-df-convert');\n",
              "        buttonEl.style.display =\n",
              "          google.colab.kernel.accessAllowed ? 'block' : 'none';\n",
              "\n",
              "        async function convertToInteractive(key) {\n",
              "          const element = document.querySelector('#df-601b7a6b-9b8c-43f9-a16c-f093044cc1a2');\n",
              "          const dataTable =\n",
              "            await google.colab.kernel.invokeFunction('convertToInteractive',\n",
              "                                                     [key], {});\n",
              "          if (!dataTable) return;\n",
              "\n",
              "          const docLinkHtml = 'Like what you see? Visit the ' +\n",
              "            '<a target=\"_blank\" href=https://colab.research.google.com/notebooks/data_table.ipynb>data table notebook</a>'\n",
              "            + ' to learn more about interactive tables.';\n",
              "          element.innerHTML = '';\n",
              "          dataTable['output_type'] = 'display_data';\n",
              "          await google.colab.output.renderOutput(dataTable, element);\n",
              "          const docLink = document.createElement('div');\n",
              "          docLink.innerHTML = docLinkHtml;\n",
              "          element.appendChild(docLink);\n",
              "        }\n",
              "      </script>\n",
              "    </div>\n",
              "  </div>\n",
              "  "
            ]
          },
          "metadata": {},
          "execution_count": 4
        }
      ],
      "source": [
        "import pandas as pd\n",
        "import io\n",
        " \n",
        "df = pd.read_csv(io.BytesIO(uploaded['adidas.csv']))\n",
        "df.head()"
      ]
    },
    {
      "cell_type": "code",
      "execution_count": null,
      "metadata": {
        "id": "t7zRhMmTQsgy",
        "colab": {
          "base_uri": "https://localhost:8080/",
          "height": 354
        },
        "outputId": "2bcca9a3-1c09-4123-cc9a-100b38e3cdfb"
      },
      "outputs": [
        {
          "output_type": "execute_result",
          "data": {
            "text/plain": [
              "      Retailer  Retailer ID         Invoice Date     Region     State  \\\n",
              "0  Foot Locker      1185732  2020-01-01 00:00:00  Northeast  New York   \n",
              "1  Foot Locker      1185732  2020-01-02 00:00:00  Northeast  New York   \n",
              "2  Foot Locker      1185732  2020-01-03 00:00:00  Northeast  New York   \n",
              "3  Foot Locker      1185732  2020-01-04 00:00:00  Northeast  New York   \n",
              "4  Foot Locker      1185732  2020-01-05 00:00:00  Northeast  New York   \n",
              "\n",
              "       City                    Product  Price per Unit  Units Sold  \\\n",
              "0  New York      Men's Street Footwear            50.0        1200   \n",
              "1  New York    Men's Athletic Footwear            50.0        1000   \n",
              "2  New York    Women's Street Footwear            40.0        1000   \n",
              "3  New York  Women's Athletic Footwear            45.0         850   \n",
              "4  New York              Men's Apparel            60.0         900   \n",
              "\n",
              "   Total Sales  Operating Profit  Operating Margin Sales Method  \n",
              "0     600000.0          300000.0              0.50     In-store  \n",
              "1     500000.0          150000.0              0.30     In-store  \n",
              "2     400000.0          140000.0              0.35     In-store  \n",
              "3     382500.0          133875.0              0.35     In-store  \n",
              "4     540000.0          162000.0              0.30     In-store  "
            ],
            "text/html": [
              "\n",
              "  <div id=\"df-e95fa82c-6b97-4433-a51d-743e57503a73\">\n",
              "    <div class=\"colab-df-container\">\n",
              "      <div>\n",
              "<style scoped>\n",
              "    .dataframe tbody tr th:only-of-type {\n",
              "        vertical-align: middle;\n",
              "    }\n",
              "\n",
              "    .dataframe tbody tr th {\n",
              "        vertical-align: top;\n",
              "    }\n",
              "\n",
              "    .dataframe thead th {\n",
              "        text-align: right;\n",
              "    }\n",
              "</style>\n",
              "<table border=\"1\" class=\"dataframe\">\n",
              "  <thead>\n",
              "    <tr style=\"text-align: right;\">\n",
              "      <th></th>\n",
              "      <th>Retailer</th>\n",
              "      <th>Retailer ID</th>\n",
              "      <th>Invoice Date</th>\n",
              "      <th>Region</th>\n",
              "      <th>State</th>\n",
              "      <th>City</th>\n",
              "      <th>Product</th>\n",
              "      <th>Price per Unit</th>\n",
              "      <th>Units Sold</th>\n",
              "      <th>Total Sales</th>\n",
              "      <th>Operating Profit</th>\n",
              "      <th>Operating Margin</th>\n",
              "      <th>Sales Method</th>\n",
              "    </tr>\n",
              "  </thead>\n",
              "  <tbody>\n",
              "    <tr>\n",
              "      <th>0</th>\n",
              "      <td>Foot Locker</td>\n",
              "      <td>1185732</td>\n",
              "      <td>2020-01-01 00:00:00</td>\n",
              "      <td>Northeast</td>\n",
              "      <td>New York</td>\n",
              "      <td>New York</td>\n",
              "      <td>Men's Street Footwear</td>\n",
              "      <td>50.0</td>\n",
              "      <td>1200</td>\n",
              "      <td>600000.0</td>\n",
              "      <td>300000.0</td>\n",
              "      <td>0.50</td>\n",
              "      <td>In-store</td>\n",
              "    </tr>\n",
              "    <tr>\n",
              "      <th>1</th>\n",
              "      <td>Foot Locker</td>\n",
              "      <td>1185732</td>\n",
              "      <td>2020-01-02 00:00:00</td>\n",
              "      <td>Northeast</td>\n",
              "      <td>New York</td>\n",
              "      <td>New York</td>\n",
              "      <td>Men's Athletic Footwear</td>\n",
              "      <td>50.0</td>\n",
              "      <td>1000</td>\n",
              "      <td>500000.0</td>\n",
              "      <td>150000.0</td>\n",
              "      <td>0.30</td>\n",
              "      <td>In-store</td>\n",
              "    </tr>\n",
              "    <tr>\n",
              "      <th>2</th>\n",
              "      <td>Foot Locker</td>\n",
              "      <td>1185732</td>\n",
              "      <td>2020-01-03 00:00:00</td>\n",
              "      <td>Northeast</td>\n",
              "      <td>New York</td>\n",
              "      <td>New York</td>\n",
              "      <td>Women's Street Footwear</td>\n",
              "      <td>40.0</td>\n",
              "      <td>1000</td>\n",
              "      <td>400000.0</td>\n",
              "      <td>140000.0</td>\n",
              "      <td>0.35</td>\n",
              "      <td>In-store</td>\n",
              "    </tr>\n",
              "    <tr>\n",
              "      <th>3</th>\n",
              "      <td>Foot Locker</td>\n",
              "      <td>1185732</td>\n",
              "      <td>2020-01-04 00:00:00</td>\n",
              "      <td>Northeast</td>\n",
              "      <td>New York</td>\n",
              "      <td>New York</td>\n",
              "      <td>Women's Athletic Footwear</td>\n",
              "      <td>45.0</td>\n",
              "      <td>850</td>\n",
              "      <td>382500.0</td>\n",
              "      <td>133875.0</td>\n",
              "      <td>0.35</td>\n",
              "      <td>In-store</td>\n",
              "    </tr>\n",
              "    <tr>\n",
              "      <th>4</th>\n",
              "      <td>Foot Locker</td>\n",
              "      <td>1185732</td>\n",
              "      <td>2020-01-05 00:00:00</td>\n",
              "      <td>Northeast</td>\n",
              "      <td>New York</td>\n",
              "      <td>New York</td>\n",
              "      <td>Men's Apparel</td>\n",
              "      <td>60.0</td>\n",
              "      <td>900</td>\n",
              "      <td>540000.0</td>\n",
              "      <td>162000.0</td>\n",
              "      <td>0.30</td>\n",
              "      <td>In-store</td>\n",
              "    </tr>\n",
              "  </tbody>\n",
              "</table>\n",
              "</div>\n",
              "      <button class=\"colab-df-convert\" onclick=\"convertToInteractive('df-e95fa82c-6b97-4433-a51d-743e57503a73')\"\n",
              "              title=\"Convert this dataframe to an interactive table.\"\n",
              "              style=\"display:none;\">\n",
              "        \n",
              "  <svg xmlns=\"http://www.w3.org/2000/svg\" height=\"24px\"viewBox=\"0 0 24 24\"\n",
              "       width=\"24px\">\n",
              "    <path d=\"M0 0h24v24H0V0z\" fill=\"none\"/>\n",
              "    <path d=\"M18.56 5.44l.94 2.06.94-2.06 2.06-.94-2.06-.94-.94-2.06-.94 2.06-2.06.94zm-11 1L8.5 8.5l.94-2.06 2.06-.94-2.06-.94L8.5 2.5l-.94 2.06-2.06.94zm10 10l.94 2.06.94-2.06 2.06-.94-2.06-.94-.94-2.06-.94 2.06-2.06.94z\"/><path d=\"M17.41 7.96l-1.37-1.37c-.4-.4-.92-.59-1.43-.59-.52 0-1.04.2-1.43.59L10.3 9.45l-7.72 7.72c-.78.78-.78 2.05 0 2.83L4 21.41c.39.39.9.59 1.41.59.51 0 1.02-.2 1.41-.59l7.78-7.78 2.81-2.81c.8-.78.8-2.07 0-2.86zM5.41 20L4 18.59l7.72-7.72 1.47 1.35L5.41 20z\"/>\n",
              "  </svg>\n",
              "      </button>\n",
              "      \n",
              "  <style>\n",
              "    .colab-df-container {\n",
              "      display:flex;\n",
              "      flex-wrap:wrap;\n",
              "      gap: 12px;\n",
              "    }\n",
              "\n",
              "    .colab-df-convert {\n",
              "      background-color: #E8F0FE;\n",
              "      border: none;\n",
              "      border-radius: 50%;\n",
              "      cursor: pointer;\n",
              "      display: none;\n",
              "      fill: #1967D2;\n",
              "      height: 32px;\n",
              "      padding: 0 0 0 0;\n",
              "      width: 32px;\n",
              "    }\n",
              "\n",
              "    .colab-df-convert:hover {\n",
              "      background-color: #E2EBFA;\n",
              "      box-shadow: 0px 1px 2px rgba(60, 64, 67, 0.3), 0px 1px 3px 1px rgba(60, 64, 67, 0.15);\n",
              "      fill: #174EA6;\n",
              "    }\n",
              "\n",
              "    [theme=dark] .colab-df-convert {\n",
              "      background-color: #3B4455;\n",
              "      fill: #D2E3FC;\n",
              "    }\n",
              "\n",
              "    [theme=dark] .colab-df-convert:hover {\n",
              "      background-color: #434B5C;\n",
              "      box-shadow: 0px 1px 3px 1px rgba(0, 0, 0, 0.15);\n",
              "      filter: drop-shadow(0px 1px 2px rgba(0, 0, 0, 0.3));\n",
              "      fill: #FFFFFF;\n",
              "    }\n",
              "  </style>\n",
              "\n",
              "      <script>\n",
              "        const buttonEl =\n",
              "          document.querySelector('#df-e95fa82c-6b97-4433-a51d-743e57503a73 button.colab-df-convert');\n",
              "        buttonEl.style.display =\n",
              "          google.colab.kernel.accessAllowed ? 'block' : 'none';\n",
              "\n",
              "        async function convertToInteractive(key) {\n",
              "          const element = document.querySelector('#df-e95fa82c-6b97-4433-a51d-743e57503a73');\n",
              "          const dataTable =\n",
              "            await google.colab.kernel.invokeFunction('convertToInteractive',\n",
              "                                                     [key], {});\n",
              "          if (!dataTable) return;\n",
              "\n",
              "          const docLinkHtml = 'Like what you see? Visit the ' +\n",
              "            '<a target=\"_blank\" href=https://colab.research.google.com/notebooks/data_table.ipynb>data table notebook</a>'\n",
              "            + ' to learn more about interactive tables.';\n",
              "          element.innerHTML = '';\n",
              "          dataTable['output_type'] = 'display_data';\n",
              "          await google.colab.output.renderOutput(dataTable, element);\n",
              "          const docLink = document.createElement('div');\n",
              "          docLink.innerHTML = docLinkHtml;\n",
              "          element.appendChild(docLink);\n",
              "        }\n",
              "      </script>\n",
              "    </div>\n",
              "  </div>\n",
              "  "
            ]
          },
          "metadata": {},
          "execution_count": 5
        }
      ],
      "source": [
        "# delete first column\n",
        "df = df.drop('Unnamed: 0',axis=1)\n",
        "df.head()\n"
      ]
    },
    {
      "cell_type": "markdown",
      "source": [
        "## EDA"
      ],
      "metadata": {
        "id": "0QBPYsmHqH7F"
      }
    },
    {
      "cell_type": "code",
      "execution_count": null,
      "metadata": {
        "id": "omSabFJJQMMJ",
        "colab": {
          "base_uri": "https://localhost:8080/"
        },
        "outputId": "6e37e595-4552-43ff-a989-915e76ddb860"
      },
      "outputs": [
        {
          "output_type": "execute_result",
          "data": {
            "text/plain": [
              "(9648, 13)"
            ]
          },
          "metadata": {},
          "execution_count": 6
        }
      ],
      "source": [
        "# shape of dataset\n",
        "df.shape"
      ]
    },
    {
      "cell_type": "code",
      "source": [
        "# info of dataset\n",
        "df.info()"
      ],
      "metadata": {
        "colab": {
          "base_uri": "https://localhost:8080/"
        },
        "id": "_46mzi9NqQ-6",
        "outputId": "c3d49677-af05-410a-b3af-123051601cb0"
      },
      "execution_count": null,
      "outputs": [
        {
          "output_type": "stream",
          "name": "stdout",
          "text": [
            "<class 'pandas.core.frame.DataFrame'>\n",
            "RangeIndex: 9648 entries, 0 to 9647\n",
            "Data columns (total 13 columns):\n",
            " #   Column            Non-Null Count  Dtype  \n",
            "---  ------            --------------  -----  \n",
            " 0   Retailer          9648 non-null   object \n",
            " 1   Retailer ID       9648 non-null   int64  \n",
            " 2   Invoice Date      9648 non-null   object \n",
            " 3   Region            9648 non-null   object \n",
            " 4   State             9648 non-null   object \n",
            " 5   City              9648 non-null   object \n",
            " 6   Product           9648 non-null   object \n",
            " 7   Price per Unit    9648 non-null   float64\n",
            " 8   Units Sold        9648 non-null   int64  \n",
            " 9   Total Sales       9648 non-null   float64\n",
            " 10  Operating Profit  9648 non-null   float64\n",
            " 11  Operating Margin  9648 non-null   float64\n",
            " 12  Sales Method      9648 non-null   object \n",
            "dtypes: float64(4), int64(2), object(7)\n",
            "memory usage: 980.0+ KB\n"
          ]
        }
      ]
    },
    {
      "cell_type": "code",
      "source": [
        "# count NAN in dataset\n",
        "df.isna().sum()\n"
      ],
      "metadata": {
        "colab": {
          "base_uri": "https://localhost:8080/"
        },
        "id": "xFKMvrZiqVh-",
        "outputId": "033692f3-6f7b-4cdd-e378-950f6c9e19ae"
      },
      "execution_count": null,
      "outputs": [
        {
          "output_type": "execute_result",
          "data": {
            "text/plain": [
              "Retailer            0\n",
              "Retailer ID         0\n",
              "Invoice Date        0\n",
              "Region              0\n",
              "State               0\n",
              "City                0\n",
              "Product             0\n",
              "Price per Unit      0\n",
              "Units Sold          0\n",
              "Total Sales         0\n",
              "Operating Profit    0\n",
              "Operating Margin    0\n",
              "Sales Method        0\n",
              "dtype: int64"
            ]
          },
          "metadata": {},
          "execution_count": 8
        }
      ]
    },
    {
      "cell_type": "code",
      "source": [
        "# luckily there is no missing value in dataset"
      ],
      "metadata": {
        "id": "-NqrODvpqe6x"
      },
      "execution_count": null,
      "outputs": []
    },
    {
      "cell_type": "code",
      "source": [
        "df.describe() # summary of Data"
      ],
      "metadata": {
        "colab": {
          "base_uri": "https://localhost:8080/",
          "height": 300
        },
        "id": "wY5wpz45qmMH",
        "outputId": "630e26b6-6874-4688-f928-6e59b0798d93"
      },
      "execution_count": null,
      "outputs": [
        {
          "output_type": "execute_result",
          "data": {
            "text/plain": [
              "        Retailer ID  Price per Unit   Units Sold    Total Sales  \\\n",
              "count  9.648000e+03     9648.000000  9648.000000    9648.000000   \n",
              "mean   1.173850e+06       45.216625   256.930037   93273.437500   \n",
              "std    2.636038e+04       14.705397   214.252030  141916.016727   \n",
              "min    1.128299e+06        7.000000     0.000000       0.000000   \n",
              "25%    1.185732e+06       35.000000   106.000000    4254.500000   \n",
              "50%    1.185732e+06       45.000000   176.000000    9576.000000   \n",
              "75%    1.185732e+06       55.000000   350.000000  150000.000000   \n",
              "max    1.197831e+06      110.000000  1275.000000  825000.000000   \n",
              "\n",
              "       Operating Profit  Operating Margin  \n",
              "count       9648.000000       9648.000000  \n",
              "mean       34425.244761          0.422991  \n",
              "std        54193.113713          0.097197  \n",
              "min            0.000000          0.100000  \n",
              "25%         1921.752500          0.350000  \n",
              "50%         4371.420000          0.410000  \n",
              "75%        52062.500000          0.490000  \n",
              "max       390000.000000          0.800000  "
            ],
            "text/html": [
              "\n",
              "  <div id=\"df-357402a2-58a2-48d2-8fe6-564cb471dee3\">\n",
              "    <div class=\"colab-df-container\">\n",
              "      <div>\n",
              "<style scoped>\n",
              "    .dataframe tbody tr th:only-of-type {\n",
              "        vertical-align: middle;\n",
              "    }\n",
              "\n",
              "    .dataframe tbody tr th {\n",
              "        vertical-align: top;\n",
              "    }\n",
              "\n",
              "    .dataframe thead th {\n",
              "        text-align: right;\n",
              "    }\n",
              "</style>\n",
              "<table border=\"1\" class=\"dataframe\">\n",
              "  <thead>\n",
              "    <tr style=\"text-align: right;\">\n",
              "      <th></th>\n",
              "      <th>Retailer ID</th>\n",
              "      <th>Price per Unit</th>\n",
              "      <th>Units Sold</th>\n",
              "      <th>Total Sales</th>\n",
              "      <th>Operating Profit</th>\n",
              "      <th>Operating Margin</th>\n",
              "    </tr>\n",
              "  </thead>\n",
              "  <tbody>\n",
              "    <tr>\n",
              "      <th>count</th>\n",
              "      <td>9.648000e+03</td>\n",
              "      <td>9648.000000</td>\n",
              "      <td>9648.000000</td>\n",
              "      <td>9648.000000</td>\n",
              "      <td>9648.000000</td>\n",
              "      <td>9648.000000</td>\n",
              "    </tr>\n",
              "    <tr>\n",
              "      <th>mean</th>\n",
              "      <td>1.173850e+06</td>\n",
              "      <td>45.216625</td>\n",
              "      <td>256.930037</td>\n",
              "      <td>93273.437500</td>\n",
              "      <td>34425.244761</td>\n",
              "      <td>0.422991</td>\n",
              "    </tr>\n",
              "    <tr>\n",
              "      <th>std</th>\n",
              "      <td>2.636038e+04</td>\n",
              "      <td>14.705397</td>\n",
              "      <td>214.252030</td>\n",
              "      <td>141916.016727</td>\n",
              "      <td>54193.113713</td>\n",
              "      <td>0.097197</td>\n",
              "    </tr>\n",
              "    <tr>\n",
              "      <th>min</th>\n",
              "      <td>1.128299e+06</td>\n",
              "      <td>7.000000</td>\n",
              "      <td>0.000000</td>\n",
              "      <td>0.000000</td>\n",
              "      <td>0.000000</td>\n",
              "      <td>0.100000</td>\n",
              "    </tr>\n",
              "    <tr>\n",
              "      <th>25%</th>\n",
              "      <td>1.185732e+06</td>\n",
              "      <td>35.000000</td>\n",
              "      <td>106.000000</td>\n",
              "      <td>4254.500000</td>\n",
              "      <td>1921.752500</td>\n",
              "      <td>0.350000</td>\n",
              "    </tr>\n",
              "    <tr>\n",
              "      <th>50%</th>\n",
              "      <td>1.185732e+06</td>\n",
              "      <td>45.000000</td>\n",
              "      <td>176.000000</td>\n",
              "      <td>9576.000000</td>\n",
              "      <td>4371.420000</td>\n",
              "      <td>0.410000</td>\n",
              "    </tr>\n",
              "    <tr>\n",
              "      <th>75%</th>\n",
              "      <td>1.185732e+06</td>\n",
              "      <td>55.000000</td>\n",
              "      <td>350.000000</td>\n",
              "      <td>150000.000000</td>\n",
              "      <td>52062.500000</td>\n",
              "      <td>0.490000</td>\n",
              "    </tr>\n",
              "    <tr>\n",
              "      <th>max</th>\n",
              "      <td>1.197831e+06</td>\n",
              "      <td>110.000000</td>\n",
              "      <td>1275.000000</td>\n",
              "      <td>825000.000000</td>\n",
              "      <td>390000.000000</td>\n",
              "      <td>0.800000</td>\n",
              "    </tr>\n",
              "  </tbody>\n",
              "</table>\n",
              "</div>\n",
              "      <button class=\"colab-df-convert\" onclick=\"convertToInteractive('df-357402a2-58a2-48d2-8fe6-564cb471dee3')\"\n",
              "              title=\"Convert this dataframe to an interactive table.\"\n",
              "              style=\"display:none;\">\n",
              "        \n",
              "  <svg xmlns=\"http://www.w3.org/2000/svg\" height=\"24px\"viewBox=\"0 0 24 24\"\n",
              "       width=\"24px\">\n",
              "    <path d=\"M0 0h24v24H0V0z\" fill=\"none\"/>\n",
              "    <path d=\"M18.56 5.44l.94 2.06.94-2.06 2.06-.94-2.06-.94-.94-2.06-.94 2.06-2.06.94zm-11 1L8.5 8.5l.94-2.06 2.06-.94-2.06-.94L8.5 2.5l-.94 2.06-2.06.94zm10 10l.94 2.06.94-2.06 2.06-.94-2.06-.94-.94-2.06-.94 2.06-2.06.94z\"/><path d=\"M17.41 7.96l-1.37-1.37c-.4-.4-.92-.59-1.43-.59-.52 0-1.04.2-1.43.59L10.3 9.45l-7.72 7.72c-.78.78-.78 2.05 0 2.83L4 21.41c.39.39.9.59 1.41.59.51 0 1.02-.2 1.41-.59l7.78-7.78 2.81-2.81c.8-.78.8-2.07 0-2.86zM5.41 20L4 18.59l7.72-7.72 1.47 1.35L5.41 20z\"/>\n",
              "  </svg>\n",
              "      </button>\n",
              "      \n",
              "  <style>\n",
              "    .colab-df-container {\n",
              "      display:flex;\n",
              "      flex-wrap:wrap;\n",
              "      gap: 12px;\n",
              "    }\n",
              "\n",
              "    .colab-df-convert {\n",
              "      background-color: #E8F0FE;\n",
              "      border: none;\n",
              "      border-radius: 50%;\n",
              "      cursor: pointer;\n",
              "      display: none;\n",
              "      fill: #1967D2;\n",
              "      height: 32px;\n",
              "      padding: 0 0 0 0;\n",
              "      width: 32px;\n",
              "    }\n",
              "\n",
              "    .colab-df-convert:hover {\n",
              "      background-color: #E2EBFA;\n",
              "      box-shadow: 0px 1px 2px rgba(60, 64, 67, 0.3), 0px 1px 3px 1px rgba(60, 64, 67, 0.15);\n",
              "      fill: #174EA6;\n",
              "    }\n",
              "\n",
              "    [theme=dark] .colab-df-convert {\n",
              "      background-color: #3B4455;\n",
              "      fill: #D2E3FC;\n",
              "    }\n",
              "\n",
              "    [theme=dark] .colab-df-convert:hover {\n",
              "      background-color: #434B5C;\n",
              "      box-shadow: 0px 1px 3px 1px rgba(0, 0, 0, 0.15);\n",
              "      filter: drop-shadow(0px 1px 2px rgba(0, 0, 0, 0.3));\n",
              "      fill: #FFFFFF;\n",
              "    }\n",
              "  </style>\n",
              "\n",
              "      <script>\n",
              "        const buttonEl =\n",
              "          document.querySelector('#df-357402a2-58a2-48d2-8fe6-564cb471dee3 button.colab-df-convert');\n",
              "        buttonEl.style.display =\n",
              "          google.colab.kernel.accessAllowed ? 'block' : 'none';\n",
              "\n",
              "        async function convertToInteractive(key) {\n",
              "          const element = document.querySelector('#df-357402a2-58a2-48d2-8fe6-564cb471dee3');\n",
              "          const dataTable =\n",
              "            await google.colab.kernel.invokeFunction('convertToInteractive',\n",
              "                                                     [key], {});\n",
              "          if (!dataTable) return;\n",
              "\n",
              "          const docLinkHtml = 'Like what you see? Visit the ' +\n",
              "            '<a target=\"_blank\" href=https://colab.research.google.com/notebooks/data_table.ipynb>data table notebook</a>'\n",
              "            + ' to learn more about interactive tables.';\n",
              "          element.innerHTML = '';\n",
              "          dataTable['output_type'] = 'display_data';\n",
              "          await google.colab.output.renderOutput(dataTable, element);\n",
              "          const docLink = document.createElement('div');\n",
              "          docLink.innerHTML = docLinkHtml;\n",
              "          element.appendChild(docLink);\n",
              "        }\n",
              "      </script>\n",
              "    </div>\n",
              "  </div>\n",
              "  "
            ]
          },
          "metadata": {},
          "execution_count": 10
        }
      ]
    },
    {
      "cell_type": "markdown",
      "source": [
        "# **Top Selling Products**"
      ],
      "metadata": {
        "id": "ef1slLVOq7Yx"
      }
    },
    {
      "cell_type": "code",
      "source": [
        "top_selling_products = df.groupby('Product')['Total Sales'].sum().reset_index() #group by products and apply sum function on Total Sales Column\n",
        "top_selling_products.index+=1 # the index starts from 0 by default so we plus 1 in index here\n",
        "top_selling_products"
      ],
      "metadata": {
        "colab": {
          "base_uri": "https://localhost:8080/",
          "height": 237
        },
        "id": "jRcVBzbKrad_",
        "outputId": "d376442c-c0c7-48c5-b94e-cf855df5f846"
      },
      "execution_count": null,
      "outputs": [
        {
          "output_type": "execute_result",
          "data": {
            "text/plain": [
              "                     Product  Total Sales\n",
              "1              Men's Apparel  123728632.0\n",
              "2    Men's Athletic Footwear  153673680.0\n",
              "3      Men's Street Footwear  208826244.0\n",
              "4            Women's Apparel  179038860.0\n",
              "5  Women's Athletic Footwear  106631896.0\n",
              "6    Women's Street Footwear  128002813.0"
            ],
            "text/html": [
              "\n",
              "  <div id=\"df-38c17d02-c201-4b46-8015-b2bcd0ec90e9\">\n",
              "    <div class=\"colab-df-container\">\n",
              "      <div>\n",
              "<style scoped>\n",
              "    .dataframe tbody tr th:only-of-type {\n",
              "        vertical-align: middle;\n",
              "    }\n",
              "\n",
              "    .dataframe tbody tr th {\n",
              "        vertical-align: top;\n",
              "    }\n",
              "\n",
              "    .dataframe thead th {\n",
              "        text-align: right;\n",
              "    }\n",
              "</style>\n",
              "<table border=\"1\" class=\"dataframe\">\n",
              "  <thead>\n",
              "    <tr style=\"text-align: right;\">\n",
              "      <th></th>\n",
              "      <th>Product</th>\n",
              "      <th>Total Sales</th>\n",
              "    </tr>\n",
              "  </thead>\n",
              "  <tbody>\n",
              "    <tr>\n",
              "      <th>1</th>\n",
              "      <td>Men's Apparel</td>\n",
              "      <td>123728632.0</td>\n",
              "    </tr>\n",
              "    <tr>\n",
              "      <th>2</th>\n",
              "      <td>Men's Athletic Footwear</td>\n",
              "      <td>153673680.0</td>\n",
              "    </tr>\n",
              "    <tr>\n",
              "      <th>3</th>\n",
              "      <td>Men's Street Footwear</td>\n",
              "      <td>208826244.0</td>\n",
              "    </tr>\n",
              "    <tr>\n",
              "      <th>4</th>\n",
              "      <td>Women's Apparel</td>\n",
              "      <td>179038860.0</td>\n",
              "    </tr>\n",
              "    <tr>\n",
              "      <th>5</th>\n",
              "      <td>Women's Athletic Footwear</td>\n",
              "      <td>106631896.0</td>\n",
              "    </tr>\n",
              "    <tr>\n",
              "      <th>6</th>\n",
              "      <td>Women's Street Footwear</td>\n",
              "      <td>128002813.0</td>\n",
              "    </tr>\n",
              "  </tbody>\n",
              "</table>\n",
              "</div>\n",
              "      <button class=\"colab-df-convert\" onclick=\"convertToInteractive('df-38c17d02-c201-4b46-8015-b2bcd0ec90e9')\"\n",
              "              title=\"Convert this dataframe to an interactive table.\"\n",
              "              style=\"display:none;\">\n",
              "        \n",
              "  <svg xmlns=\"http://www.w3.org/2000/svg\" height=\"24px\"viewBox=\"0 0 24 24\"\n",
              "       width=\"24px\">\n",
              "    <path d=\"M0 0h24v24H0V0z\" fill=\"none\"/>\n",
              "    <path d=\"M18.56 5.44l.94 2.06.94-2.06 2.06-.94-2.06-.94-.94-2.06-.94 2.06-2.06.94zm-11 1L8.5 8.5l.94-2.06 2.06-.94-2.06-.94L8.5 2.5l-.94 2.06-2.06.94zm10 10l.94 2.06.94-2.06 2.06-.94-2.06-.94-.94-2.06-.94 2.06-2.06.94z\"/><path d=\"M17.41 7.96l-1.37-1.37c-.4-.4-.92-.59-1.43-.59-.52 0-1.04.2-1.43.59L10.3 9.45l-7.72 7.72c-.78.78-.78 2.05 0 2.83L4 21.41c.39.39.9.59 1.41.59.51 0 1.02-.2 1.41-.59l7.78-7.78 2.81-2.81c.8-.78.8-2.07 0-2.86zM5.41 20L4 18.59l7.72-7.72 1.47 1.35L5.41 20z\"/>\n",
              "  </svg>\n",
              "      </button>\n",
              "      \n",
              "  <style>\n",
              "    .colab-df-container {\n",
              "      display:flex;\n",
              "      flex-wrap:wrap;\n",
              "      gap: 12px;\n",
              "    }\n",
              "\n",
              "    .colab-df-convert {\n",
              "      background-color: #E8F0FE;\n",
              "      border: none;\n",
              "      border-radius: 50%;\n",
              "      cursor: pointer;\n",
              "      display: none;\n",
              "      fill: #1967D2;\n",
              "      height: 32px;\n",
              "      padding: 0 0 0 0;\n",
              "      width: 32px;\n",
              "    }\n",
              "\n",
              "    .colab-df-convert:hover {\n",
              "      background-color: #E2EBFA;\n",
              "      box-shadow: 0px 1px 2px rgba(60, 64, 67, 0.3), 0px 1px 3px 1px rgba(60, 64, 67, 0.15);\n",
              "      fill: #174EA6;\n",
              "    }\n",
              "\n",
              "    [theme=dark] .colab-df-convert {\n",
              "      background-color: #3B4455;\n",
              "      fill: #D2E3FC;\n",
              "    }\n",
              "\n",
              "    [theme=dark] .colab-df-convert:hover {\n",
              "      background-color: #434B5C;\n",
              "      box-shadow: 0px 1px 3px 1px rgba(0, 0, 0, 0.15);\n",
              "      filter: drop-shadow(0px 1px 2px rgba(0, 0, 0, 0.3));\n",
              "      fill: #FFFFFF;\n",
              "    }\n",
              "  </style>\n",
              "\n",
              "      <script>\n",
              "        const buttonEl =\n",
              "          document.querySelector('#df-38c17d02-c201-4b46-8015-b2bcd0ec90e9 button.colab-df-convert');\n",
              "        buttonEl.style.display =\n",
              "          google.colab.kernel.accessAllowed ? 'block' : 'none';\n",
              "\n",
              "        async function convertToInteractive(key) {\n",
              "          const element = document.querySelector('#df-38c17d02-c201-4b46-8015-b2bcd0ec90e9');\n",
              "          const dataTable =\n",
              "            await google.colab.kernel.invokeFunction('convertToInteractive',\n",
              "                                                     [key], {});\n",
              "          if (!dataTable) return;\n",
              "\n",
              "          const docLinkHtml = 'Like what you see? Visit the ' +\n",
              "            '<a target=\"_blank\" href=https://colab.research.google.com/notebooks/data_table.ipynb>data table notebook</a>'\n",
              "            + ' to learn more about interactive tables.';\n",
              "          element.innerHTML = '';\n",
              "          dataTable['output_type'] = 'display_data';\n",
              "          await google.colab.output.renderOutput(dataTable, element);\n",
              "          const docLink = document.createElement('div');\n",
              "          docLink.innerHTML = docLinkHtml;\n",
              "          element.appendChild(docLink);\n",
              "        }\n",
              "      </script>\n",
              "    </div>\n",
              "  </div>\n",
              "  "
            ]
          },
          "metadata": {},
          "execution_count": 11
        }
      ]
    },
    {
      "cell_type": "code",
      "source": [
        "# graphical interpretation of these values\n"
      ],
      "metadata": {
        "id": "cSd2Elclr5Uy"
      },
      "execution_count": null,
      "outputs": []
    },
    {
      "cell_type": "code",
      "source": [
        "\n",
        "fig , ax = plt.subplots(figsize=(8,6))\n",
        "\n",
        "sns.barplot(data = top_selling_products,y= 'Product',x ='Total Sales')\n",
        "ax.set_yticklabels(ax.get_yticklabels() , fontsize = 16)\n",
        "\n",
        "ax.set_xlabel(' Total Sales ', fontsize = 16)\n",
        "ax.set_ylabel('Product Names ', fontsize = 16)\n",
        "ax.set_title('Top Selling Products', fontsize = 16)\n",
        "    "
      ],
      "metadata": {
        "colab": {
          "base_uri": "https://localhost:8080/",
          "height": 428
        },
        "id": "wsuslUOksb52",
        "outputId": "83abcadc-00fd-4773-c151-f7c77e201d69"
      },
      "execution_count": null,
      "outputs": [
        {
          "output_type": "execute_result",
          "data": {
            "text/plain": [
              "Text(0.5, 1.0, 'Top Selling Products')"
            ]
          },
          "metadata": {},
          "execution_count": 13
        },
        {
          "output_type": "display_data",
          "data": {
            "text/plain": [
              "<Figure size 576x432 with 1 Axes>"
            ],
            "image/png": "[encoded data removed]"
          },
          "metadata": {
            "needs_background": "light"
          }
        }
      ]
    },
    {
      "cell_type": "markdown",
      "source": [
        "# Top Grossing Cities"
      ],
      "metadata": {
        "id": "epKa_pLmn4FS"
      }
    },
    {
      "cell_type": "code",
      "source": [
        "top_grossing = df.groupby('City')['Operating Profit'].sum().sort_values(ascending = False).reset_index().head(10)\n",
        "top_grossing.index+=1\n",
        "top_grossing"
      ],
      "metadata": {
        "colab": {
          "base_uri": "https://localhost:8080/",
          "height": 363
        },
        "id": "u456IP_Yof-A",
        "outputId": "38ebb40d-02cb-44b7-e91d-f0b710130056"
      },
      "execution_count": null,
      "outputs": [
        {
          "output_type": "execute_result",
          "data": {
            "text/plain": [
              "             City  Operating Profit\n",
              "1      Charleston       15607190.11\n",
              "2        New York       13899973.16\n",
              "3           Miami       12168619.11\n",
              "4        Portland       10760799.37\n",
              "5   San Francisco       10256249.56\n",
              "6         Houston        9845141.06\n",
              "7       Charlotte        9756422.87\n",
              "8          Albany        9429850.91\n",
              "9     New Orleans        9417233.49\n",
              "10     Birmingham        9147581.39"
            ],
            "text/html": [
              "\n",
              "  <div id=\"df-c58d21c2-a017-4ff0-9a45-ff811b2c0a7a\">\n",
              "    <div class=\"colab-df-container\">\n",
              "      <div>\n",
              "<style scoped>\n",
              "    .dataframe tbody tr th:only-of-type {\n",
              "        vertical-align: middle;\n",
              "    }\n",
              "\n",
              "    .dataframe tbody tr th {\n",
              "        vertical-align: top;\n",
              "    }\n",
              "\n",
              "    .dataframe thead th {\n",
              "        text-align: right;\n",
              "    }\n",
              "</style>\n",
              "<table border=\"1\" class=\"dataframe\">\n",
              "  <thead>\n",
              "    <tr style=\"text-align: right;\">\n",
              "      <th></th>\n",
              "      <th>City</th>\n",
              "      <th>Operating Profit</th>\n",
              "    </tr>\n",
              "  </thead>\n",
              "  <tbody>\n",
              "    <tr>\n",
              "      <th>1</th>\n",
              "      <td>Charleston</td>\n",
              "      <td>15607190.11</td>\n",
              "    </tr>\n",
              "    <tr>\n",
              "      <th>2</th>\n",
              "      <td>New York</td>\n",
              "      <td>13899973.16</td>\n",
              "    </tr>\n",
              "    <tr>\n",
              "      <th>3</th>\n",
              "      <td>Miami</td>\n",
              "      <td>12168619.11</td>\n",
              "    </tr>\n",
              "    <tr>\n",
              "      <th>4</th>\n",
              "      <td>Portland</td>\n",
              "      <td>10760799.37</td>\n",
              "    </tr>\n",
              "    <tr>\n",
              "      <th>5</th>\n",
              "      <td>San Francisco</td>\n",
              "      <td>10256249.56</td>\n",
              "    </tr>\n",
              "    <tr>\n",
              "      <th>6</th>\n",
              "      <td>Houston</td>\n",
              "      <td>9845141.06</td>\n",
              "    </tr>\n",
              "    <tr>\n",
              "      <th>7</th>\n",
              "      <td>Charlotte</td>\n",
              "      <td>9756422.87</td>\n",
              "    </tr>\n",
              "    <tr>\n",
              "      <th>8</th>\n",
              "      <td>Albany</td>\n",
              "      <td>9429850.91</td>\n",
              "    </tr>\n",
              "    <tr>\n",
              "      <th>9</th>\n",
              "      <td>New Orleans</td>\n",
              "      <td>9417233.49</td>\n",
              "    </tr>\n",
              "    <tr>\n",
              "      <th>10</th>\n",
              "      <td>Birmingham</td>\n",
              "      <td>9147581.39</td>\n",
              "    </tr>\n",
              "  </tbody>\n",
              "</table>\n",
              "</div>\n",
              "      <button class=\"colab-df-convert\" onclick=\"convertToInteractive('df-c58d21c2-a017-4ff0-9a45-ff811b2c0a7a')\"\n",
              "              title=\"Convert this dataframe to an interactive table.\"\n",
              "              style=\"display:none;\">\n",
              "        \n",
              "  <svg xmlns=\"http://www.w3.org/2000/svg\" height=\"24px\"viewBox=\"0 0 24 24\"\n",
              "       width=\"24px\">\n",
              "    <path d=\"M0 0h24v24H0V0z\" fill=\"none\"/>\n",
              "    <path d=\"M18.56 5.44l.94 2.06.94-2.06 2.06-.94-2.06-.94-.94-2.06-.94 2.06-2.06.94zm-11 1L8.5 8.5l.94-2.06 2.06-.94-2.06-.94L8.5 2.5l-.94 2.06-2.06.94zm10 10l.94 2.06.94-2.06 2.06-.94-2.06-.94-.94-2.06-.94 2.06-2.06.94z\"/><path d=\"M17.41 7.96l-1.37-1.37c-.4-.4-.92-.59-1.43-.59-.52 0-1.04.2-1.43.59L10.3 9.45l-7.72 7.72c-.78.78-.78 2.05 0 2.83L4 21.41c.39.39.9.59 1.41.59.51 0 1.02-.2 1.41-.59l7.78-7.78 2.81-2.81c.8-.78.8-2.07 0-2.86zM5.41 20L4 18.59l7.72-7.72 1.47 1.35L5.41 20z\"/>\n",
              "  </svg>\n",
              "      </button>\n",
              "      \n",
              "  <style>\n",
              "    .colab-df-container {\n",
              "      display:flex;\n",
              "      flex-wrap:wrap;\n",
              "      gap: 12px;\n",
              "    }\n",
              "\n",
              "    .colab-df-convert {\n",
              "      background-color: #E8F0FE;\n",
              "      border: none;\n",
              "      border-radius: 50%;\n",
              "      cursor: pointer;\n",
              "      display: none;\n",
              "      fill: #1967D2;\n",
              "      height: 32px;\n",
              "      padding: 0 0 0 0;\n",
              "      width: 32px;\n",
              "    }\n",
              "\n",
              "    .colab-df-convert:hover {\n",
              "      background-color: #E2EBFA;\n",
              "      box-shadow: 0px 1px 2px rgba(60, 64, 67, 0.3), 0px 1px 3px 1px rgba(60, 64, 67, 0.15);\n",
              "      fill: #174EA6;\n",
              "    }\n",
              "\n",
              "    [theme=dark] .colab-df-convert {\n",
              "      background-color: #3B4455;\n",
              "      fill: #D2E3FC;\n",
              "    }\n",
              "\n",
              "    [theme=dark] .colab-df-convert:hover {\n",
              "      background-color: #434B5C;\n",
              "      box-shadow: 0px 1px 3px 1px rgba(0, 0, 0, 0.15);\n",
              "      filter: drop-shadow(0px 1px 2px rgba(0, 0, 0, 0.3));\n",
              "      fill: #FFFFFF;\n",
              "    }\n",
              "  </style>\n",
              "\n",
              "      <script>\n",
              "        const buttonEl =\n",
              "          document.querySelector('#df-c58d21c2-a017-4ff0-9a45-ff811b2c0a7a button.colab-df-convert');\n",
              "        buttonEl.style.display =\n",
              "          google.colab.kernel.accessAllowed ? 'block' : 'none';\n",
              "\n",
              "        async function convertToInteractive(key) {\n",
              "          const element = document.querySelector('#df-c58d21c2-a017-4ff0-9a45-ff811b2c0a7a');\n",
              "          const dataTable =\n",
              "            await google.colab.kernel.invokeFunction('convertToInteractive',\n",
              "                                                     [key], {});\n",
              "          if (!dataTable) return;\n",
              "\n",
              "          const docLinkHtml = 'Like what you see? Visit the ' +\n",
              "            '<a target=\"_blank\" href=https://colab.research.google.com/notebooks/data_table.ipynb>data table notebook</a>'\n",
              "            + ' to learn more about interactive tables.';\n",
              "          element.innerHTML = '';\n",
              "          dataTable['output_type'] = 'display_data';\n",
              "          await google.colab.output.renderOutput(dataTable, element);\n",
              "          const docLink = document.createElement('div');\n",
              "          docLink.innerHTML = docLinkHtml;\n",
              "          element.appendChild(docLink);\n",
              "        }\n",
              "      </script>\n",
              "    </div>\n",
              "  </div>\n",
              "  "
            ]
          },
          "metadata": {},
          "execution_count": 14
        }
      ]
    },
    {
      "cell_type": "markdown",
      "source": [
        "# **Pie Chart of Top Grossing Cities**"
      ],
      "metadata": {
        "id": "4Xt9cjtqNueP"
      }
    },
    {
      "cell_type": "code",
      "source": [
        "#for pie chart we need 2 lists\n",
        "data= list(top_grossing['Operating Profit']) #convert Operating Profit series in a list\n",
        "labels = list(top_grossing['City']) #convert city series in a list\n",
        "fig , ax = plt.subplots(figsize=(10,8))\n",
        "\n",
        "colors = sns.color_palette('bright')[0:5]\n",
        "plt.pie(data, labels = labels,colors = colors, autopct='%.0f%%', explode = (0.1, 0,0,0,0,0,0,0,0,0))\n",
        "plt.show()"
      ],
      "metadata": {
        "colab": {
          "base_uri": "https://localhost:8080/",
          "height": 466
        },
        "id": "LOV_9GQdN88f",
        "outputId": "573b3ccf-5bba-4fbf-fcae-d7f9223d80c2"
      },
      "execution_count": null,
      "outputs": [
        {
          "output_type": "display_data",
          "data": {
            "text/plain": [
              "<Figure size 720x576 with 1 Axes>"
            ],
            "image/png": "[encoded data removed]"
          },
          "metadata": {}
        }
      ]
    },
    {
      "cell_type": "markdown",
      "source": [
        "# Who are the Top Retailers?"
      ],
      "metadata": {
        "id": "LHN0sD33wmT6"
      }
    },
    {
      "cell_type": "code",
      "source": [
        "top_retailors = df.groupby('Retailer')['Operating Profit'].sum().sort_values(ascending=False).reset_index()\n",
        "top_retailors.index += 1\n",
        "top_retailors"
      ],
      "metadata": {
        "id": "6cOcMoIzwtVd",
        "colab": {
          "base_uri": "https://localhost:8080/",
          "height": 237
        },
        "outputId": "2069c9b8-40e9-4e92-a27b-b6012d8b7c48"
      },
      "execution_count": null,
      "outputs": [
        {
          "output_type": "execute_result",
          "data": {
            "text/plain": [
              "        Retailer  Operating Profit\n",
              "1      West Gear       85667873.18\n",
              "2    Foot Locker       80722124.81\n",
              "3  Sports Direct       74332954.96\n",
              "4         Kohl's       36811252.58\n",
              "5         Amazon       28818503.31\n",
              "6        Walmart       25782052.61"
            ],
            "text/html": [
              "\n",
              "  <div id=\"df-08cc3425-21be-4da3-864b-1a82518dbdb6\">\n",
              "    <div class=\"colab-df-container\">\n",
              "      <div>\n",
              "<style scoped>\n",
              "    .dataframe tbody tr th:only-of-type {\n",
              "        vertical-align: middle;\n",
              "    }\n",
              "\n",
              "    .dataframe tbody tr th {\n",
              "        vertical-align: top;\n",
              "    }\n",
              "\n",
              "    .dataframe thead th {\n",
              "        text-align: right;\n",
              "    }\n",
              "</style>\n",
              "<table border=\"1\" class=\"dataframe\">\n",
              "  <thead>\n",
              "    <tr style=\"text-align: right;\">\n",
              "      <th></th>\n",
              "      <th>Retailer</th>\n",
              "      <th>Operating Profit</th>\n",
              "    </tr>\n",
              "  </thead>\n",
              "  <tbody>\n",
              "    <tr>\n",
              "      <th>1</th>\n",
              "      <td>West Gear</td>\n",
              "      <td>85667873.18</td>\n",
              "    </tr>\n",
              "    <tr>\n",
              "      <th>2</th>\n",
              "      <td>Foot Locker</td>\n",
              "      <td>80722124.81</td>\n",
              "    </tr>\n",
              "    <tr>\n",
              "      <th>3</th>\n",
              "      <td>Sports Direct</td>\n",
              "      <td>74332954.96</td>\n",
              "    </tr>\n",
              "    <tr>\n",
              "      <th>4</th>\n",
              "      <td>Kohl's</td>\n",
              "      <td>36811252.58</td>\n",
              "    </tr>\n",
              "    <tr>\n",
              "      <th>5</th>\n",
              "      <td>Amazon</td>\n",
              "      <td>28818503.31</td>\n",
              "    </tr>\n",
              "    <tr>\n",
              "      <th>6</th>\n",
              "      <td>Walmart</td>\n",
              "      <td>25782052.61</td>\n",
              "    </tr>\n",
              "  </tbody>\n",
              "</table>\n",
              "</div>\n",
              "      <button class=\"colab-df-convert\" onclick=\"convertToInteractive('df-08cc3425-21be-4da3-864b-1a82518dbdb6')\"\n",
              "              title=\"Convert this dataframe to an interactive table.\"\n",
              "              style=\"display:none;\">\n",
              "        \n",
              "  <svg xmlns=\"http://www.w3.org/2000/svg\" height=\"24px\"viewBox=\"0 0 24 24\"\n",
              "       width=\"24px\">\n",
              "    <path d=\"M0 0h24v24H0V0z\" fill=\"none\"/>\n",
              "    <path d=\"M18.56 5.44l.94 2.06.94-2.06 2.06-.94-2.06-.94-.94-2.06-.94 2.06-2.06.94zm-11 1L8.5 8.5l.94-2.06 2.06-.94-2.06-.94L8.5 2.5l-.94 2.06-2.06.94zm10 10l.94 2.06.94-2.06 2.06-.94-2.06-.94-.94-2.06-.94 2.06-2.06.94z\"/><path d=\"M17.41 7.96l-1.37-1.37c-.4-.4-.92-.59-1.43-.59-.52 0-1.04.2-1.43.59L10.3 9.45l-7.72 7.72c-.78.78-.78 2.05 0 2.83L4 21.41c.39.39.9.59 1.41.59.51 0 1.02-.2 1.41-.59l7.78-7.78 2.81-2.81c.8-.78.8-2.07 0-2.86zM5.41 20L4 18.59l7.72-7.72 1.47 1.35L5.41 20z\"/>\n",
              "  </svg>\n",
              "      </button>\n",
              "      \n",
              "  <style>\n",
              "    .colab-df-container {\n",
              "      display:flex;\n",
              "      flex-wrap:wrap;\n",
              "      gap: 12px;\n",
              "    }\n",
              "\n",
              "    .colab-df-convert {\n",
              "      background-color: #E8F0FE;\n",
              "      border: none;\n",
              "      border-radius: 50%;\n",
              "      cursor: pointer;\n",
              "      display: none;\n",
              "      fill: #1967D2;\n",
              "      height: 32px;\n",
              "      padding: 0 0 0 0;\n",
              "      width: 32px;\n",
              "    }\n",
              "\n",
              "    .colab-df-convert:hover {\n",
              "      background-color: #E2EBFA;\n",
              "      box-shadow: 0px 1px 2px rgba(60, 64, 67, 0.3), 0px 1px 3px 1px rgba(60, 64, 67, 0.15);\n",
              "      fill: #174EA6;\n",
              "    }\n",
              "\n",
              "    [theme=dark] .colab-df-convert {\n",
              "      background-color: #3B4455;\n",
              "      fill: #D2E3FC;\n",
              "    }\n",
              "\n",
              "    [theme=dark] .colab-df-convert:hover {\n",
              "      background-color: #434B5C;\n",
              "      box-shadow: 0px 1px 3px 1px rgba(0, 0, 0, 0.15);\n",
              "      filter: drop-shadow(0px 1px 2px rgba(0, 0, 0, 0.3));\n",
              "      fill: #FFFFFF;\n",
              "    }\n",
              "  </style>\n",
              "\n",
              "      <script>\n",
              "        const buttonEl =\n",
              "          document.querySelector('#df-08cc3425-21be-4da3-864b-1a82518dbdb6 button.colab-df-convert');\n",
              "        buttonEl.style.display =\n",
              "          google.colab.kernel.accessAllowed ? 'block' : 'none';\n",
              "\n",
              "        async function convertToInteractive(key) {\n",
              "          const element = document.querySelector('#df-08cc3425-21be-4da3-864b-1a82518dbdb6');\n",
              "          const dataTable =\n",
              "            await google.colab.kernel.invokeFunction('convertToInteractive',\n",
              "                                                     [key], {});\n",
              "          if (!dataTable) return;\n",
              "\n",
              "          const docLinkHtml = 'Like what you see? Visit the ' +\n",
              "            '<a target=\"_blank\" href=https://colab.research.google.com/notebooks/data_table.ipynb>data table notebook</a>'\n",
              "            + ' to learn more about interactive tables.';\n",
              "          element.innerHTML = '';\n",
              "          dataTable['output_type'] = 'display_data';\n",
              "          await google.colab.output.renderOutput(dataTable, element);\n",
              "          const docLink = document.createElement('div');\n",
              "          docLink.innerHTML = docLinkHtml;\n",
              "          element.appendChild(docLink);\n",
              "        }\n",
              "      </script>\n",
              "    </div>\n",
              "  </div>\n",
              "  "
            ]
          },
          "metadata": {},
          "execution_count": 16
        }
      ]
    },
    {
      "cell_type": "markdown",
      "source": [
        "# **Bar Chart of Top Retailers**"
      ],
      "metadata": {
        "id": "7RPN4M_aiemF"
      }
    },
    {
      "cell_type": "code",
      "source": [
        "fig , ax = plt.subplots(figsize=(8,6))\n",
        "sns.set(style='darkgrid')\n",
        "sns.barplot(data=top_retailors, x='Operating Profit', y='Retailer', palette='Blues_r')\n",
        "ax.set_yticklabels(ax.get_yticklabels() , fontsize = 12)\n",
        "ax.set_xlabel(' Operating Profit ', fontsize = 16)\n",
        "ax.set_ylabel(' Retailer ', fontsize = 16)\n",
        "ax.set_title('Top Retailers', fontsize = 16)\n",
        "plt.show()"
      ],
      "metadata": {
        "colab": {
          "base_uri": "https://localhost:8080/",
          "height": 411
        },
        "id": "DRKZiwKUikGR",
        "outputId": "7291675f-2771-45d3-86de-d3816d824ba0"
      },
      "execution_count": null,
      "outputs": [
        {
          "output_type": "display_data",
          "data": {
            "text/plain": [
              "<Figure size 576x432 with 1 Axes>"
            ],
            "image/png": "[encoded data removed]"
          },
          "metadata": {
            "needs_background": "light"
          }
        }
      ]
    },
    {
      "cell_type": "markdown",
      "source": [
        "# **Top Selling Methods**"
      ],
      "metadata": {
        "id": "yCKfm5OIC5-9"
      }
    },
    {
      "cell_type": "code",
      "source": [
        "top_methods = df.groupby('Sales Method')['Total Sales'].sum().sort_values(ascending=False).reset_index()\n",
        "#for pie chart we need 2 lists\n",
        "data= list(top_methods['Total Sales']) #convert Operating Profit series in a list\n",
        "labels = list(top_methods['Sales Method'])\n",
        "fig , ax = plt.subplots(figsize=(10,8))\n",
        "\n",
        "colors = sns.color_palette('bright')[0:5]\n",
        "plt.pie(data, labels = labels,colors = colors, autopct='%.0f%%', explode = (0.1, 0,0), shadow =True)\n",
        "plt.show()"
      ],
      "metadata": {
        "colab": {
          "base_uri": "https://localhost:8080/",
          "height": 466
        },
        "id": "tMkRHiIrDFHo",
        "outputId": "ab6df351-ee90-4cad-d42b-acd4184c0691"
      },
      "execution_count": null,
      "outputs": [
        {
          "output_type": "display_data",
          "data": {
            "text/plain": [
              "<Figure size 720x576 with 1 Axes>"
            ],
            "image/png": "[encoded data removed]"
          },
          "metadata": {}
        }
      ]
    },
    {
      "cell_type": "markdown",
      "source": [
        "# Find Regression of Sales"
      ],
      "metadata": {
        "id": "G_Xl5FOMSOoQ"
      }
    },
    {
      "cell_type": "markdown",
      "source": [
        "# Correlation Between different Variables using Heatmap\n"
      ],
      "metadata": {
        "id": "Ug-cgplaNXDh"
      }
    },
    {
      "cell_type": "code",
      "source": [
        "# Let's see the correlation between different variables.\n",
        "sns.heatmap(df.corr(), cmap=\"YlGnBu\", annot = True)\n",
        "plt.show()"
      ],
      "metadata": {
        "id": "bS6UpseGom0B",
        "colab": {
          "base_uri": "https://localhost:8080/",
          "height": 358
        },
        "outputId": "086601d7-8d28-4d7d-b66c-c8d184e9f131"
      },
      "execution_count": null,
      "outputs": [
        {
          "output_type": "display_data",
          "data": {
            "text/plain": [
              "<Figure size 432x288 with 2 Axes>"
            ],
            "image/png": "[encoded data removed]"
          },
          "metadata": {}
        }
      ]
    },
    {
      "cell_type": "markdown",
      "source": [
        "**Total Sales correlation value with Operating Profit = 0.96**"
      ],
      "metadata": {
        "id": "x-sPbFwnOgiF"
      }
    },
    {
      "cell_type": "markdown",
      "source": [
        "**Total Sales correlation value with Units Sold = 0.91**"
      ],
      "metadata": {
        "id": "sZGlcnl8Uywv"
      }
    },
    {
      "cell_type": "markdown",
      "source": [
        "**Total Sales correlation value with Price per Unit = 0.44**"
      ],
      "metadata": {
        "id": "aXY6YYvgV289"
      }
    },
    {
      "cell_type": "markdown",
      "source": [
        "# Profit Margin and Total Sales Regression\n",
        "\n"
      ],
      "metadata": {
        "id": "CoXEkLYLJ3V-"
      }
    },
    {
      "cell_type": "code",
      "source": [
        "sns.lmplot(data = df, x ='Operating Margin',y = 'Total Sales',col ='Sales Method')"
      ],
      "metadata": {
        "colab": {
          "base_uri": "https://localhost:8080/",
          "height": 382
        },
        "id": "QzdG6A5ulUKV",
        "outputId": "577dd869-506c-40ed-f753-06530e3c2603"
      },
      "execution_count": null,
      "outputs": [
        {
          "output_type": "execute_result",
          "data": {
            "text/plain": [
              "<seaborn.axisgrid.FacetGrid at 0x7fca0b9789d0>"
            ]
          },
          "metadata": {},
          "execution_count": 21
        },
        {
          "output_type": "display_data",
          "data": {
            "text/plain": [
              "<Figure size 1080x360 with 3 Axes>"
            ],
            "image/png": "[encoded data removed]"
          },
          "metadata": {}
        }
      ]
    },
    {
      "cell_type": "markdown",
      "source": [
        "# Price per Unit and Total Sales Regression\n",
        "\n"
      ],
      "metadata": {
        "id": "kqjay352JoHG"
      }
    },
    {
      "cell_type": "code",
      "source": [
        "\n",
        "sns.lmplot(data = df, x ='Price per Unit',y = 'Total Sales',col ='Sales Method')"
      ],
      "metadata": {
        "colab": {
          "base_uri": "https://localhost:8080/",
          "height": 382
        },
        "id": "xEQgU0F6mj5x",
        "outputId": "fba79689-8fc4-40d2-fcd4-71b25264f5e6"
      },
      "execution_count": null,
      "outputs": [
        {
          "output_type": "execute_result",
          "data": {
            "text/plain": [
              "<seaborn.axisgrid.FacetGrid at 0x7fca0eab05e0>"
            ]
          },
          "metadata": {},
          "execution_count": 22
        },
        {
          "output_type": "display_data",
          "data": {
            "text/plain": [
              "<Figure size 1080x360 with 3 Axes>"
            ],
            "image/png": "[encoded data removed]"
          },
          "metadata": {}
        }
      ]
    },
    {
      "cell_type": "markdown",
      "source": [
        "# Units Sold and Total Sales Regression\n"
      ],
      "metadata": {
        "id": "99hVVoNzNL06"
      }
    },
    {
      "cell_type": "code",
      "source": [
        "sns.lmplot(data = df, x ='Units Sold',y = 'Total Sales',col ='Sales Method')"
      ],
      "metadata": {
        "colab": {
          "base_uri": "https://localhost:8080/",
          "height": 382
        },
        "id": "k-d9t4c7NPgL",
        "outputId": "4e8799d4-b57f-4616-b5ae-8593b8d6c4c1"
      },
      "execution_count": null,
      "outputs": [
        {
          "output_type": "execute_result",
          "data": {
            "text/plain": [
              "<seaborn.axisgrid.FacetGrid at 0x7fca09dd5760>"
            ]
          },
          "metadata": {},
          "execution_count": 23
        },
        {
          "output_type": "display_data",
          "data": {
            "text/plain": [
              "<Figure size 1080x360 with 3 Axes>"
            ],
            "image/png": "[encoded data removed]"
          },
          "metadata": {}
        }
      ]
    },
    {
      "cell_type": "markdown",
      "source": [
        "# Machine Learning Part"
      ],
      "metadata": {
        "id": "OBO7eKsQW2Ts"
      }
    },
    {
      "cell_type": "markdown",
      "source": [
        "Train Test Model"
      ],
      "metadata": {
        "id": "eFpYArL3XtB5"
      }
    },
    {
      "cell_type": "code",
      "source": [
        "X = df[['Units Sold','Operating Profit','Price per Unit']] #features\n",
        "y = df['Total Sales'] # target\n",
        "X_train, X_test, y_train, y_test = train_test_split(X, y, test_size=0.2, random_state=0)"
      ],
      "metadata": {
        "id": "u6EelW0EXu8y"
      },
      "execution_count": null,
      "outputs": []
    },
    {
      "cell_type": "markdown",
      "source": [
        "**Linear Regression Model**"
      ],
      "metadata": {
        "id": "dKPpBcGcZ5vr"
      }
    },
    {
      "cell_type": "code",
      "source": [
        "model = LinearRegression()\n",
        "model.fit(X_train, y_train)\n",
        "y_predicted = model.predict(X_test)\n",
        "y_predicted"
      ],
      "metadata": {
        "id": "UUby8BykZKlJ",
        "colab": {
          "base_uri": "https://localhost:8080/"
        },
        "outputId": "8b01b37f-3a7b-4866-e31b-48346fc021a1"
      },
      "execution_count": null,
      "outputs": [
        {
          "output_type": "execute_result",
          "data": {
            "text/plain": [
              "array([  1829.70109017,  27970.10990229,   4821.70690064, ...,\n",
              "        25440.71448354,   -641.38166592, -14162.10606571])"
            ]
          },
          "metadata": {},
          "execution_count": 25
        }
      ]
    },
    {
      "cell_type": "markdown",
      "source": [
        "**Score**"
      ],
      "metadata": {
        "id": "SIfdysmmaAJ1"
      }
    },
    {
      "cell_type": "code",
      "source": [
        "model.score(X_test,y_test)"
      ],
      "metadata": {
        "colab": {
          "base_uri": "https://localhost:8080/"
        },
        "id": "FuX6Uz6MZ99J",
        "outputId": "90978919-8c1a-4210-df47-eb0331622477"
      },
      "execution_count": null,
      "outputs": [
        {
          "output_type": "execute_result",
          "data": {
            "text/plain": [
              "0.9415222783822518"
            ]
          },
          "metadata": {},
          "execution_count": 26
        }
      ]
    },
    {
      "cell_type": "markdown",
      "source": [
        "# Random Forest Model"
      ],
      "metadata": {
        "id": "ldRRDdJtag5i"
      }
    },
    {
      "cell_type": "code",
      "source": [
        "X = df[['Units Sold','Operating Profit','Price per Unit',]] #features\n",
        "y = df['Total Sales'] # target\n",
        "X_train, X_test, y_train, y_test = train_test_split(X, y, test_size=0.2, random_state=0)"
      ],
      "metadata": {
        "id": "8ikWx9cFb-fB"
      },
      "execution_count": null,
      "outputs": []
    },
    {
      "cell_type": "code",
      "source": [
        "model = RandomForestRegressor (n_estimators = 5)\n",
        "model.fit(X_train, y_train)\n",
        "y_predicted = model.predict(X_test)"
      ],
      "metadata": {
        "id": "b3bb-wHFaCuU"
      },
      "execution_count": null,
      "outputs": []
    },
    {
      "cell_type": "markdown",
      "source": [
        "**Score**"
      ],
      "metadata": {
        "id": "-0R4ADz52cQX"
      }
    },
    {
      "cell_type": "code",
      "source": [
        "model.score(X_test,y_test)"
      ],
      "metadata": {
        "colab": {
          "base_uri": "https://localhost:8080/"
        },
        "id": "Sy5Bi6lhaxL4",
        "outputId": "ac42e5a0-0955-46c0-cd6a-bd7f2a1b51b2"
      },
      "execution_count": null,
      "outputs": [
        {
          "output_type": "execute_result",
          "data": {
            "text/plain": [
              "0.9968577173902254"
            ]
          },
          "metadata": {},
          "execution_count": 29
        }
      ]
    },
    {
      "cell_type": "markdown",
      "source": [
        "# Score : 0.997"
      ],
      "metadata": {
        "id": "zvQFpETNMuPM"
      }
    },
    {
      "cell_type": "markdown",
      "source": [
        "✌"
      ],
      "metadata": {
        "id": "8eHimgP6c2xa"
      }
    },
    {
      "cell_type": "markdown",
      "source": [
        "# Descion Tree Model"
      ],
      "metadata": {
        "id": "-n4vtDUuEXYJ"
      }
    },
    {
      "cell_type": "code",
      "source": [
        "model = tree.DecisionTreeRegressor()\n",
        "X = df[['Units Sold','Operating Profit','Price per Unit',]] #features\n",
        "y = df['Total Sales'] # target\n",
        "X_train, X_test, y_train, y_test = train_test_split(X, y, test_size=0.2, random_state=0)\n",
        "\n"
      ],
      "metadata": {
        "id": "2gVIviMM_Oh4"
      },
      "execution_count": null,
      "outputs": []
    },
    {
      "cell_type": "code",
      "source": [
        "model.fit(X_train, y_train)\n",
        "y_predicted = model.predict(X_test)"
      ],
      "metadata": {
        "id": "f7KLXTwH_OjH"
      },
      "execution_count": null,
      "outputs": []
    },
    {
      "cell_type": "markdown",
      "source": [
        "Score"
      ],
      "metadata": {
        "id": "DEBX9KvqPbMC"
      }
    },
    {
      "cell_type": "code",
      "source": [
        "model.score(X_test,y_test)"
      ],
      "metadata": {
        "colab": {
          "base_uri": "https://localhost:8080/"
        },
        "id": "SYU5a_kM_qkl",
        "outputId": "e70589d2-38e3-4c17-cd05-a2bfbd54c467"
      },
      "execution_count": null,
      "outputs": [
        {
          "output_type": "execute_result",
          "data": {
            "text/plain": [
              "0.9961314063305763"
            ]
          },
          "metadata": {},
          "execution_count": 32
        }
      ]
    },
    {
      "cell_type": "markdown",
      "source": [
        "## Score : 0.996"
      ],
      "metadata": {
        "id": "sPCFvptpNAJV"
      }
    },
    {
      "cell_type": "markdown",
      "source": [
        "## Scalling Data"
      ],
      "metadata": {
        "id": "RhN43BixBchH"
      }
    },
    {
      "cell_type": "code",
      "source": [
        "X = df[['Units Sold','Operating Profit','Price per Unit',]] #features\n",
        "y = df['Total Sales'] # target\n",
        "X_train, X_test, y_train, y_test = train_test_split(X, y, test_size=0.2, random_state=0)"
      ],
      "metadata": {
        "id": "pPFk7EhZBkeY"
      },
      "execution_count": null,
      "outputs": []
    },
    {
      "cell_type": "code",
      "source": [
        "scaler = StandardScaler()\n",
        "scaler.fit(X_train)\n",
        "X_train = scaler.transform(X_train)\n",
        "X_test = scaler.transform(X_test)\n",
        "model = RandomForestRegressor(n_estimators = 9)\n",
        "model.fit(X_train, y_train)\n",
        "y_predicted = model.predict(X_test)\n"
      ],
      "metadata": {
        "id": "kKYmE954BgP1"
      },
      "execution_count": null,
      "outputs": []
    },
    {
      "cell_type": "code",
      "source": [
        "model.score(X_test,y_test)"
      ],
      "metadata": {
        "id": "Shyqi6_iBpYx",
        "outputId": "9831b831-8af6-4ffa-bb63-83b4ba738ee4",
        "colab": {
          "base_uri": "https://localhost:8080/"
        }
      },
      "execution_count": null,
      "outputs": [
        {
          "output_type": "execute_result",
          "data": {
            "text/plain": [
              "0.9973477893055132"
            ]
          },
          "metadata": {},
          "execution_count": 35
        }
      ]
    },
    {
      "cell_type": "markdown",
      "source": [
        "## Score : 0.9974"
      ],
      "metadata": {
        "id": "opXD-2zjNF5a"
      }
    },
    {
      "cell_type": "markdown",
      "source": [
        "## K Neighbors Model"
      ],
      "metadata": {
        "id": "BIHTUqk2Pdpg"
      }
    },
    {
      "cell_type": "code",
      "source": [
        "X = df[['Units Sold','Operating Profit','Price per Unit',]] #features\n",
        "y = df['Total Sales'] # target\n",
        "X_train, X_test, y_train, y_test = train_test_split(X, y, test_size=0.2, random_state=0)"
      ],
      "metadata": {
        "id": "iv5P1pgKBsmZ"
      },
      "execution_count": null,
      "outputs": []
    },
    {
      "cell_type": "code",
      "source": [
        "model = KNeighborsRegressor(n_neighbors=5)\n",
        "model.fit(X_train, y_train)\n",
        "y_predicted = model.predict(X_test)\n"
      ],
      "metadata": {
        "id": "R46-ut-8OYRt"
      },
      "execution_count": null,
      "outputs": []
    },
    {
      "cell_type": "markdown",
      "source": [
        "## Score"
      ],
      "metadata": {
        "id": "uHDPx-aKPhVl"
      }
    },
    {
      "cell_type": "code",
      "source": [
        "model.score(X_test,y_test)"
      ],
      "metadata": {
        "colab": {
          "base_uri": "https://localhost:8080/"
        },
        "id": "cjqXVqe0OdqE",
        "outputId": "2f2fbc9f-695b-4834-bb31-685d43ca7a94"
      },
      "execution_count": null,
      "outputs": [
        {
          "output_type": "execute_result",
          "data": {
            "text/plain": [
              "0.9383161816893438"
            ]
          },
          "metadata": {},
          "execution_count": 38
        }
      ]
    },
    {
      "cell_type": "markdown",
      "source": [
        "## Score : 0.938"
      ],
      "metadata": {
        "id": "PDJ9cY5LPk1D"
      }
    },
    {
      "cell_type": "markdown",
      "source": [
        "## *Conclusion*"
      ],
      "metadata": {
        "id": "i2rS33oCPuBF"
      }
    },
    {
      "cell_type": "markdown",
      "source": [
        "**Random Forest Model is performing best for this DataSet with accuracy score : 0.997**"
      ],
      "metadata": {
        "id": "So2CkS7UQBOI"
      }
    },
    {
      "cell_type": "markdown",
      "source": [
        "## Thank You"
      ],
      "metadata": {
        "id": "J9QIq4GRQJ6R"
      }
    },
    {
      "cell_type": "code",
      "source": [],
      "metadata": {
        "id": "y9nVrrl9QLzD"
      },
      "execution_count": null,
      "outputs": []
    }
  ],
  "metadata": {
    "colab": {
      "provenance": []
    },
    "kernelspec": {
      "display_name": "Python 3",
      "name": "python3"
    },
    "language_info": {
      "name": "python"
    }
  },
  "nbformat": 4,
  "nbformat_minor": 0
}